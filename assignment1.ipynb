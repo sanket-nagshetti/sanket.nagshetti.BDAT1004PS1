{
 "cells": [
  {
   "cell_type": "markdown",
   "id": "765d3b5c",
   "metadata": {},
   "source": [
    "## 1. What data type is each of the following (evaluate where necessary)?"
   ]
  },
  {
   "cell_type": "markdown",
   "id": "20a577d9",
   "metadata": {},
   "source": [
    "5\n",
    "5.0\n",
    "5>1\n",
    "'5'\n",
    "5*2\n",
    "'5' * 2\n",
    "'5' + '2'\n",
    "5/2\n",
    "5%2\n",
    "{5, 2, 1}\n",
    "5 == 3\n",
    "Pi (the number)\n",
    "\n",
    "5\tINTEGER  TYPE\n",
    "5.0\tFLOAT   TYPE\n",
    "5 > 1\tBOOLEAN TYPE \n",
    "'5'\tSTRING  TYPE\n",
    "5 * 2\tINTEGER TYPE \n",
    "'5' * 2\tSTRING  TYPE \n",
    "'5' + '2'\tSTRING  TYPE\n",
    "5 / 2\tFLOAT TYPE \n",
    "5% 2\tINTEGER  TYPE\n",
    "{5, 2, 1}\tSET\n",
    "5== 3\tBOOLEAN  TYPE\n",
    "Pi(thenumber)\tFLOATING  DATA TYPE"
   ]
  },
  {
   "cell_type": "markdown",
   "id": "143f5d78",
   "metadata": {},
   "source": [
    "# 2. python expressions that answer these questions:\n",
    "## a. How many letters are there in 'Supercalifragilisticexpialidocious'?"
   ]
  },
  {
   "cell_type": "code",
   "execution_count": 6,
   "id": "5e5c1c12",
   "metadata": {},
   "outputs": [
    {
     "name": "stdout",
     "output_type": "stream",
     "text": [
      "number of letters in Supercalifragilisticexpialidocious: 34\n"
     ]
    }
   ],
   "source": [
    "print(\"number of letters in Supercalifragilisticexpialidocious:\",len('Supercalifragilisticexpialidocious'))"
   ]
  },
  {
   "cell_type": "markdown",
   "id": "2444e6a1",
   "metadata": {},
   "source": [
    "## b. Does 'Supercalifragilisticexpialidocious' contain 'ice' as a substring?"
   ]
  },
  {
   "cell_type": "code",
   "execution_count": 7,
   "id": "dbf266da",
   "metadata": {},
   "outputs": [
    {
     "name": "stdout",
     "output_type": "stream",
     "text": [
      "Supercalifragilisticexpialidocious contains word ice\n"
     ]
    }
   ],
   "source": [
    "if ('ice' in 'Supercalifragilisticexpialidocious'):\n",
    "    print('Supercalifragilisticexpialidocious contains word ice')\n",
    "else:\n",
    "    print('Supercalifragilisticexpialidocious does not contain word ice')"
   ]
  },
  {
   "cell_type": "markdown",
   "id": "09f6c5eb",
   "metadata": {},
   "source": [
    "## c. Which of the following words is the longest: Supercalifragilisticexpialidocious, Honorificabilitudinitatibus, or Bababadalgharaghtakamminarronnkonn?"
   ]
  },
  {
   "cell_type": "code",
   "execution_count": 11,
   "id": "ee093381",
   "metadata": {},
   "outputs": [
    {
     "name": "stdout",
     "output_type": "stream",
     "text": [
      "The Longest Word is : Supercalifragilisticexpialidocious\n"
     ]
    }
   ],
   "source": [
    "list_word = [\"Supercalifragilisticexpialidocious\", \"Honorificabilitudinitatibus\", \"Bababadalgharaghtakamminarronnkonn\"]\n",
    "longest_word = max(list_word, key=len)\n",
    "print(\"The Longest Word is :\",longest_word)"
   ]
  },
  {
   "cell_type": "markdown",
   "id": "e8c69992",
   "metadata": {},
   "source": [
    "## d. Which composer comes first in the dictionary: 'Berlioz', 'Borodin', 'Brian', 'Bartok', 'Bellini', 'Buxtehude', 'Bernstein'. Which one comes last?\n"
   ]
  },
  {
   "cell_type": "code",
   "execution_count": 15,
   "id": "ab9e6a29",
   "metadata": {},
   "outputs": [
    {
     "name": "stdout",
     "output_type": "stream",
     "text": [
      "First composer:  Bartok\n",
      "Last composer:  Buxtehude\n"
     ]
    }
   ],
   "source": [
    "list_composer =['Berlioz', 'Borodin', 'Brian', 'Bartok', 'Bellini', 'Buxtehude', 'Bernstein']\n",
    "print('First composer: ',sorted(list_composer)[0])\n",
    "print('Last composer: ',sorted(list_composer,reverse=True)[0])"
   ]
  },
  {
   "cell_type": "markdown",
   "id": "3b0c8025",
   "metadata": {},
   "source": [
    "## 3. Implement function triangleArea(a,b,c)"
   ]
  },
  {
   "cell_type": "code",
   "execution_count": 29,
   "id": "61551798",
   "metadata": {},
   "outputs": [],
   "source": [
    "import math\n",
    "def triangleArea(a,b,c):\n",
    "    s = (a+b+c)/2\n",
    "    return math.sqrt(s*(s-a)*(s-b)*(s-c))\n",
    "\n"
   ]
  },
  {
   "cell_type": "code",
   "execution_count": 30,
   "id": "b6dc637c",
   "metadata": {},
   "outputs": [
    {
     "name": "stdout",
     "output_type": "stream",
     "text": [
      "area of triangle:  1.7320508075688772\n"
     ]
    }
   ],
   "source": [
    "print(\"area of triangle: \",triangleArea(2,2,2))"
   ]
  },
  {
   "cell_type": "markdown",
   "id": "411cde4f",
   "metadata": {},
   "source": [
    "## 4. Write a program in python to separate odd and even integers in separate arrays. Go to the editor"
   ]
  },
  {
   "cell_type": "code",
   "execution_count": 34,
   "id": "2704a425",
   "metadata": {},
   "outputs": [],
   "source": [
    "def divide_array(list_number):\n",
    "    even = []\n",
    "    odd =[]\n",
    "    for i in list_number:\n",
    "      if(i%2 == 0):\n",
    "         even.append(i)\n",
    "      else:\n",
    "        odd.append(i)\n",
    "    print(\"The even  are : \" , even)\n",
    "    print(\"The odd  are : \", odd)"
   ]
  },
  {
   "cell_type": "code",
   "execution_count": 37,
   "id": "b5a09d27",
   "metadata": {},
   "outputs": [
    {
     "name": "stdout",
     "output_type": "stream",
     "text": [
      "Input the number of elements to be stored in the array :  2\n",
      "Input  2  elements in the array\n",
      "1\n",
      "2\n",
      "The even  are :  [2]\n",
      "The odd  are :  [1]\n"
     ]
    }
   ],
   "source": [
    "list_number = list()\n",
    "length = int(input(\"Input the number of elements to be stored in the array :  \"))\n",
    "print(\"Input \",length,\" elements in the array\")\n",
    "for i in range(int(length)):\n",
    "    num =int(input(\"\"))\n",
    "    list_number.append(num)\n",
    "divide_array(list_number)"
   ]
  },
  {
   "cell_type": "markdown",
   "id": "8b584a61",
   "metadata": {},
   "source": [
    "## 5 a. Write a function inside(x,y,x1,y1,x2,y2) that returns True or False depending on whether the point (x,y) \n",
    "lies in the rectangle with lower left corner (x1,y1) and upper right corner (x2,y2)."
   ]
  },
  {
   "cell_type": "code",
   "execution_count": 39,
   "id": "db4ceeca",
   "metadata": {},
   "outputs": [],
   "source": [
    "def inside(x,y,x1,y1,x2,y2):\n",
    "    return(x<x2 and x>x1 and y<y2 and y>y1)"
   ]
  },
  {
   "cell_type": "code",
   "execution_count": 40,
   "id": "cd4577ef",
   "metadata": {},
   "outputs": [
    {
     "data": {
      "text/plain": [
       "True"
      ]
     },
     "execution_count": 40,
     "metadata": {},
     "output_type": "execute_result"
    }
   ],
   "source": [
    "inside(1,1,0,0,2,3)"
   ]
  },
  {
   "cell_type": "code",
   "execution_count": 41,
   "id": "ed906acc",
   "metadata": {},
   "outputs": [
    {
     "data": {
      "text/plain": [
       "False"
      ]
     },
     "execution_count": 41,
     "metadata": {},
     "output_type": "execute_result"
    }
   ],
   "source": [
    "inside(-1,-1,0,0,2,3)"
   ]
  },
  {
   "cell_type": "markdown",
   "id": "22d3feb0",
   "metadata": {},
   "source": [
    "## b. Use function inside() from part a. to write an expression that tests whether the point (1,1) lies in both of the following rectangles: one with lower left corner (0.3, 0.5) and upper right corner (1.1, 0.7) and the other with lower left corner (0.5, 0.2) and upper right corner (1.1, 2)."
   ]
  },
  {
   "cell_type": "code",
   "execution_count": 42,
   "id": "fb210986",
   "metadata": {},
   "outputs": [],
   "source": [
    "evaluate = lambda x,y: inside(x,y,0.3, 0.5,1.1, 0.7) and  inside(x,y,0.5, 0.2,1.1, 2)"
   ]
  },
  {
   "cell_type": "code",
   "execution_count": 44,
   "id": "5b7ba943",
   "metadata": {},
   "outputs": [
    {
     "name": "stdout",
     "output_type": "stream",
     "text": [
      "False\n"
     ]
    }
   ],
   "source": [
    "print(evaluate(1,1))"
   ]
  },
  {
   "cell_type": "markdown",
   "id": "f9dfb4c2",
   "metadata": {},
   "source": [
    "## 6. You can turn a word into pig-Latin using the following two rules (simplified):• If the word starts with a consonant, move that letter to the end and append 'ay'. For example, 'happy' becomes 'appyhay' and 'pencil' becomes 'encilpay'• If the word starts with a vowel, simply append 'way' to the end of the word. For example, 'enter' becomes 'enterway' and 'other' becomes 'otherway' . For our purposes, there are 5 vowels: a, e, i, o, u (so we count y as a consonant). Write a function pig() that takes a word (i.e., a string) as input and returns its pig- Latin form. Your function should still work if the input word contains upper case characters. Your output should always be lower case however."
   ]
  },
  {
   "cell_type": "code",
   "execution_count": 74,
   "id": "1083fed9",
   "metadata": {},
   "outputs": [],
   "source": [
    "def pig(word):\n",
    "    return ( (word+'way').lower()  if word[0].lower()  in ['a','e','i','o','u']  else (word[1:]+ word[0]+'ay').lower() )"
   ]
  },
  {
   "cell_type": "code",
   "execution_count": 75,
   "id": "003be3f1",
   "metadata": {},
   "outputs": [
    {
     "data": {
      "text/plain": [
       "'appyhay'"
      ]
     },
     "execution_count": 75,
     "metadata": {},
     "output_type": "execute_result"
    }
   ],
   "source": [
    "pig('happy') "
   ]
  },
  {
   "cell_type": "code",
   "execution_count": 76,
   "id": "d14b3103",
   "metadata": {},
   "outputs": [
    {
     "data": {
      "text/plain": [
       "'enterway'"
      ]
     },
     "execution_count": 76,
     "metadata": {},
     "output_type": "execute_result"
    }
   ],
   "source": [
    "pig('Enter')"
   ]
  },
  {
   "cell_type": "markdown",
   "id": "a3b9e51f",
   "metadata": {},
   "source": [
    "## 7. File bloodtype1.txt records blood-types of patients (A, B, AB, O or OO) at a clinic. Write a function bldcount() that reads the file with name name and reports (i.e., prints) how many patients there are in each bloodtype."
   ]
  },
  {
   "cell_type": "code",
   "execution_count": 118,
   "id": "ec4940d1",
   "metadata": {},
   "outputs": [],
   "source": [
    "def bldcount(file_path):\n",
    "    blood_type_counts = {}\n",
    "    with open(file_path, 'r') as file:\n",
    "\n",
    "        for line in file:\n",
    "            blood_type = line.split()\n",
    "            for blood_group in blood_type:\n",
    "\n",
    "                if blood_group in blood_type_counts:\n",
    "                    blood_type_counts[blood_group] = blood_type_counts[blood_group] + 1\n",
    "                else:\n",
    "                    blood_type_counts[blood_group] = 1\n",
    "    for key,values in  blood_type_counts.items():\n",
    "        print(f\"There are {values} patients of blood type {key}.\")"
   ]
  },
  {
   "cell_type": "code",
   "execution_count": 119,
   "id": "78486978",
   "metadata": {},
   "outputs": [
    {
     "name": "stdout",
     "output_type": "stream",
     "text": [
      "There are 13 patients of blood type AB.\n",
      "There are 1 patients of blood type B.\n",
      "There are 15 patients of blood type O.\n",
      "There are 15 patients of blood type A.\n"
     ]
    }
   ],
   "source": [
    "file_path = \"/Users/sanketnagshetti/Downloads/bloodtype1.txt\" \n",
    "bldcount(file_path)"
   ]
  },
  {
   "cell_type": "markdown",
   "id": "f2fccc54",
   "metadata": {},
   "source": [
    "## 8. Write a function curconv() that takes as input: 1. a currency represented using a string (e.g., 'JPY' for the Japanese Yen or 'EUR' for the Euro) 2. an amount and then converts and returns the amount in US dollars.\n"
   ]
  },
  {
   "cell_type": "code",
   "execution_count": 124,
   "id": "b5503911",
   "metadata": {},
   "outputs": [],
   "source": [
    "file_path = \"/Users/sanketnagshetti/Downloads/currencies.txt\"\n",
    "dict_currency_details = {}\n",
    "with open(file_path, 'r') as file:\n",
    "    for line in file:\n",
    "        cur_details = line.split('\\t')\n",
    "        key=cur_details[0]\n",
    "        values=cur_details[1:]\n",
    "        dict_currency_details[key]=values\n",
    "        \n",
    "def curconv(curr,amount):\n",
    "    print(float(dict_currency_details[curr][0])*amount)      "
   ]
  },
  {
   "cell_type": "code",
   "execution_count": 125,
   "id": "1f098209",
   "metadata": {},
   "outputs": [
    {
     "name": "stdout",
     "output_type": "stream",
     "text": [
      "122.96544\n",
      "1.241401\n"
     ]
    }
   ],
   "source": [
    "curconv('EUR', 100)\n",
    "curconv('JPY', 100)"
   ]
  },
  {
   "cell_type": "markdown",
   "id": "997f3964",
   "metadata": {},
   "source": [
    "## 9. Each of the following will cause an exception (an error). Identify what type of exception each will cause."
   ]
  },
  {
   "cell_type": "markdown",
   "id": "011f5178",
   "metadata": {},
   "source": [
    "adding 6 + ‘a’ --> TypeError\n",
    "\n",
    "Referring to the 12th item of a list that has only 10 --> IndexError\n",
    "\n",
    "Using a value that is out of range for a function’s input --> ValueError\n",
    "\n",
    "Using an undeclared variable --> NameError\n",
    "\n",
    "Trying to open a file that does not exist --> FileNotFoundError"
   ]
  },
  {
   "cell_type": "markdown",
   "id": "c2e156dc",
   "metadata": {},
   "source": [
    "## 10. Calculate frequency of alphabet in the word"
   ]
  },
  {
   "cell_type": "code",
   "execution_count": 100,
   "id": "2ef59e6b",
   "metadata": {},
   "outputs": [],
   "source": [
    "def frequencies(word):\n",
    "    dict_chars = {}\n",
    "    for alphabet in word:\n",
    "        if alphabet.lower() in dict_chars:\n",
    "            dict_chars[alphabet.lower()] = dict_chars[alphabet.lower()] + 1\n",
    "        else:\n",
    "            dict_chars[alphabet.lower()] = 1\n",
    "    for key,values in dict_chars.items():\n",
    "        print('alphabet: ',key,'frequency: ',values)"
   ]
  },
  {
   "cell_type": "code",
   "execution_count": 101,
   "id": "280e3272",
   "metadata": {},
   "outputs": [
    {
     "name": "stdout",
     "output_type": "stream",
     "text": [
      "alphabet:  t frequency:  3\n",
      "alphabet:  h frequency:  2\n",
      "alphabet:  e frequency:  5\n",
      "alphabet:    frequency:  8\n",
      "alphabet:  q frequency:  1\n",
      "alphabet:  u frequency:  1\n",
      "alphabet:  i frequency:  1\n",
      "alphabet:  c frequency:  1\n",
      "alphabet:  k frequency:  1\n",
      "alphabet:  r frequency:  2\n",
      "alphabet:  d frequency:  3\n",
      "alphabet:  f frequency:  1\n",
      "alphabet:  o frequency:  4\n",
      "alphabet:  x frequency:  1\n",
      "alphabet:  g frequency:  1\n",
      "alphabet:  b frequency:  1\n",
      "alphabet:  a frequency:  1\n",
      "alphabet:  n frequency:  2\n",
      "alphabet:  w frequency:  1\n",
      "alphabet:  m frequency:  1\n",
      "alphabet:  . frequency:  1\n"
     ]
    }
   ],
   "source": [
    "frequencies('The quick red fox got bored and went home.')"
   ]
  }
 ],
 "metadata": {
  "kernelspec": {
   "display_name": "Python 3 (ipykernel)",
   "language": "python",
   "name": "python3"
  },
  "language_info": {
   "codemirror_mode": {
    "name": "ipython",
    "version": 3
   },
   "file_extension": ".py",
   "mimetype": "text/x-python",
   "name": "python",
   "nbconvert_exporter": "python",
   "pygments_lexer": "ipython3",
   "version": "3.11.4"
  }
 },
 "nbformat": 4,
 "nbformat_minor": 5
}
